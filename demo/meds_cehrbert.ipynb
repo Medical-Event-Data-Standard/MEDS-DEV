{
 "cells": [
  {
   "cell_type": "markdown",
   "id": "e9226e6d",
   "metadata": {
    "lines_to_next_cell": 0
   },
   "source": [
    "## Use a python 3.11 kernel cehrbert"
   ]
  },
  {
   "cell_type": "code",
   "execution_count": 1,
   "id": "e4c2dca6",
   "metadata": {},
   "outputs": [
    {
     "name": "stdout",
     "output_type": "stream",
     "text": [
      "Collecting meds_reader==0.1.9\n",
      "  Downloading meds_reader-0.1.9-cp312-cp312-macosx_12_0_x86_64.whl.metadata (3.0 kB)\n",
      "Requirement already satisfied: pyarrow>=9 in /Users/sim/miniconda3/envs/dev/lib/python3.12/site-packages (from meds_reader==0.1.9) (17.0.0)\n",
      "Requirement already satisfied: meds==0.3.3 in /Users/sim/miniconda3/envs/dev/lib/python3.12/site-packages (from meds_reader==0.1.9) (0.3.3)\n",
      "Collecting numpy<2,>=1.16 (from meds_reader==0.1.9)\n",
      "  Using cached numpy-1.26.4-cp312-cp312-macosx_10_9_x86_64.whl.metadata (61 kB)\n",
      "Requirement already satisfied: pandas>=2.2 in /Users/sim/miniconda3/envs/dev/lib/python3.12/site-packages (from meds_reader==0.1.9) (2.2.3)\n",
      "Requirement already satisfied: jsonschema>=4.0.0 in /Users/sim/miniconda3/envs/dev/lib/python3.12/site-packages (from meds==0.3.3->meds_reader==0.1.9) (4.23.0)\n",
      "Requirement already satisfied: typing-extensions>=4.0 in /Users/sim/miniconda3/envs/dev/lib/python3.12/site-packages (from meds==0.3.3->meds_reader==0.1.9) (4.12.2)\n",
      "Requirement already satisfied: python-dateutil>=2.8.2 in /Users/sim/miniconda3/envs/dev/lib/python3.12/site-packages (from pandas>=2.2->meds_reader==0.1.9) (2.9.0.post0)\n",
      "Requirement already satisfied: pytz>=2020.1 in /Users/sim/miniconda3/envs/dev/lib/python3.12/site-packages (from pandas>=2.2->meds_reader==0.1.9) (2024.2)\n",
      "Requirement already satisfied: tzdata>=2022.7 in /Users/sim/miniconda3/envs/dev/lib/python3.12/site-packages (from pandas>=2.2->meds_reader==0.1.9) (2024.2)\n",
      "Requirement already satisfied: attrs>=22.2.0 in /Users/sim/miniconda3/envs/dev/lib/python3.12/site-packages (from jsonschema>=4.0.0->meds==0.3.3->meds_reader==0.1.9) (24.2.0)\n",
      "Requirement already satisfied: jsonschema-specifications>=2023.03.6 in /Users/sim/miniconda3/envs/dev/lib/python3.12/site-packages (from jsonschema>=4.0.0->meds==0.3.3->meds_reader==0.1.9) (2024.10.1)\n",
      "Requirement already satisfied: referencing>=0.28.4 in /Users/sim/miniconda3/envs/dev/lib/python3.12/site-packages (from jsonschema>=4.0.0->meds==0.3.3->meds_reader==0.1.9) (0.35.1)\n",
      "Requirement already satisfied: rpds-py>=0.7.1 in /Users/sim/miniconda3/envs/dev/lib/python3.12/site-packages (from jsonschema>=4.0.0->meds==0.3.3->meds_reader==0.1.9) (0.22.3)\n",
      "Requirement already satisfied: six>=1.5 in /Users/sim/miniconda3/envs/dev/lib/python3.12/site-packages (from python-dateutil>=2.8.2->pandas>=2.2->meds_reader==0.1.9) (1.17.0)\n",
      "Downloading meds_reader-0.1.9-cp312-cp312-macosx_12_0_x86_64.whl (3.3 MB)\n",
      "\u001b[2K   \u001b[90m━━━━━━━━━━━━━━━━━━━━━━━━━━━━━━━━━━━━━━━━\u001b[0m \u001b[32m3.3/3.3 MB\u001b[0m \u001b[31m6.7 MB/s\u001b[0m eta \u001b[36m0:00:00\u001b[0mta \u001b[36m0:00:01\u001b[0m\n",
      "\u001b[?25hUsing cached numpy-1.26.4-cp312-cp312-macosx_10_9_x86_64.whl (20.3 MB)\n",
      "Installing collected packages: numpy, meds_reader\n",
      "  Attempting uninstall: numpy\n",
      "    Found existing installation: numpy 2.2.0\n",
      "    Uninstalling numpy-2.2.0:\n",
      "      Successfully uninstalled numpy-2.2.0\n",
      "Successfully installed meds_reader-0.1.9 numpy-1.26.4\n",
      "Requirement already satisfied: setuptools in /Users/sim/miniconda3/envs/dev/lib/python3.12/site-packages (75.1.0)\n",
      "Collecting cehrbert==1.3.1\n",
      "  Downloading cehrbert-1.3.1-py3-none-any.whl.metadata (9.9 kB)\n",
      "Collecting dask==2024.1.1 (from cehrbert==1.3.1)\n",
      "  Downloading dask-2024.1.1-py3-none-any.whl.metadata (3.7 kB)\n",
      "Collecting datasets==2.16.1 (from cehrbert==1.3.1)\n",
      "  Downloading datasets-2.16.1-py3-none-any.whl.metadata (20 kB)\n",
      "Collecting evaluate==0.4.1 (from cehrbert==1.3.1)\n",
      "  Downloading evaluate-0.4.1-py3-none-any.whl.metadata (9.4 kB)\n",
      "Collecting fast-ml==3.68 (from cehrbert==1.3.1)\n",
      "  Downloading fast_ml-3.68-py3-none-any.whl.metadata (12 kB)\n",
      "Collecting femr==0.2.0 (from cehrbert==1.3.1)\n",
      "  Downloading femr-0.2.0-py3-none-any.whl.metadata (11 kB)\n",
      "Collecting Jinja2==3.1.3 (from cehrbert==1.3.1)\n",
      "  Downloading Jinja2-3.1.3-py3-none-any.whl.metadata (3.3 kB)\n",
      "Requirement already satisfied: meds==0.3.3 in /Users/sim/miniconda3/envs/dev/lib/python3.12/site-packages (from cehrbert==1.3.1) (0.3.3)\n",
      "Requirement already satisfied: meds_reader==0.1.9 in /Users/sim/miniconda3/envs/dev/lib/python3.12/site-packages (from cehrbert==1.3.1) (0.1.9)\n",
      "Collecting networkx==3.2.1 (from cehrbert==1.3.1)\n",
      "  Downloading networkx-3.2.1-py3-none-any.whl.metadata (5.2 kB)\n",
      "Collecting numpy==1.24.3 (from cehrbert==1.3.1)\n",
      "  Downloading numpy-1.24.3.tar.gz (10.9 MB)\n",
      "\u001b[2K     \u001b[90m━━━━━━━━━━━━━━━━━━━━━━━━━━━━━━━━━━━━━━━━\u001b[0m \u001b[32m10.9/10.9 MB\u001b[0m \u001b[31m30.0 MB/s\u001b[0m eta \u001b[36m0:00:00\u001b[0m00:01\u001b[0m0:01\u001b[0m\n",
      "\u001b[?25h  Installing build dependencies ... \u001b[?25ldone\n",
      "\u001b[?25h  Getting requirements to build wheel ... \u001b[?25lerror\n",
      "  \u001b[1;31merror\u001b[0m: \u001b[1msubprocess-exited-with-error\u001b[0m\n",
      "  \n",
      "  \u001b[31m×\u001b[0m \u001b[32mGetting requirements to build wheel\u001b[0m did not run successfully.\n",
      "  \u001b[31m│\u001b[0m exit code: \u001b[1;36m1\u001b[0m\n",
      "  \u001b[31m╰─>\u001b[0m \u001b[31m[33 lines of output]\u001b[0m\n",
      "  \u001b[31m   \u001b[0m Traceback (most recent call last):\n",
      "  \u001b[31m   \u001b[0m   File \"/Users/sim/miniconda3/envs/dev/lib/python3.12/site-packages/pip/_vendor/pyproject_hooks/_in_process/_in_process.py\", line 353, in <module>\n",
      "  \u001b[31m   \u001b[0m     main()\n",
      "  \u001b[31m   \u001b[0m   File \"/Users/sim/miniconda3/envs/dev/lib/python3.12/site-packages/pip/_vendor/pyproject_hooks/_in_process/_in_process.py\", line 335, in main\n",
      "  \u001b[31m   \u001b[0m     json_out['return_val'] = hook(**hook_input['kwargs'])\n",
      "  \u001b[31m   \u001b[0m                              ^^^^^^^^^^^^^^^^^^^^^^^^^^^^\n",
      "  \u001b[31m   \u001b[0m   File \"/Users/sim/miniconda3/envs/dev/lib/python3.12/site-packages/pip/_vendor/pyproject_hooks/_in_process/_in_process.py\", line 112, in get_requires_for_build_wheel\n",
      "  \u001b[31m   \u001b[0m     backend = _build_backend()\n",
      "  \u001b[31m   \u001b[0m               ^^^^^^^^^^^^^^^^\n",
      "  \u001b[31m   \u001b[0m   File \"/Users/sim/miniconda3/envs/dev/lib/python3.12/site-packages/pip/_vendor/pyproject_hooks/_in_process/_in_process.py\", line 77, in _build_backend\n",
      "  \u001b[31m   \u001b[0m     obj = import_module(mod_path)\n",
      "  \u001b[31m   \u001b[0m           ^^^^^^^^^^^^^^^^^^^^^^^\n",
      "  \u001b[31m   \u001b[0m   File \"/Users/sim/miniconda3/envs/dev/lib/python3.12/importlib/__init__.py\", line 90, in import_module\n",
      "  \u001b[31m   \u001b[0m     return _bootstrap._gcd_import(name[level:], package, level)\n",
      "  \u001b[31m   \u001b[0m            ^^^^^^^^^^^^^^^^^^^^^^^^^^^^^^^^^^^^^^^^^^^^^^^^^^^^\n",
      "  \u001b[31m   \u001b[0m   File \"<frozen importlib._bootstrap>\", line 1387, in _gcd_import\n",
      "  \u001b[31m   \u001b[0m   File \"<frozen importlib._bootstrap>\", line 1360, in _find_and_load\n",
      "  \u001b[31m   \u001b[0m   File \"<frozen importlib._bootstrap>\", line 1310, in _find_and_load_unlocked\n",
      "  \u001b[31m   \u001b[0m   File \"<frozen importlib._bootstrap>\", line 488, in _call_with_frames_removed\n",
      "  \u001b[31m   \u001b[0m   File \"<frozen importlib._bootstrap>\", line 1387, in _gcd_import\n",
      "  \u001b[31m   \u001b[0m   File \"<frozen importlib._bootstrap>\", line 1360, in _find_and_load\n",
      "  \u001b[31m   \u001b[0m   File \"<frozen importlib._bootstrap>\", line 1331, in _find_and_load_unlocked\n",
      "  \u001b[31m   \u001b[0m   File \"<frozen importlib._bootstrap>\", line 935, in _load_unlocked\n",
      "  \u001b[31m   \u001b[0m   File \"<frozen importlib._bootstrap_external>\", line 999, in exec_module\n",
      "  \u001b[31m   \u001b[0m   File \"<frozen importlib._bootstrap>\", line 488, in _call_with_frames_removed\n",
      "  \u001b[31m   \u001b[0m   File \"/private/var/folders/fm/gwbmjrfx6gxg6x7xxcxbnrth0000gn/T/pip-build-env-4n11flhi/overlay/lib/python3.12/site-packages/setuptools/__init__.py\", line 16, in <module>\n",
      "  \u001b[31m   \u001b[0m     import setuptools.version\n",
      "  \u001b[31m   \u001b[0m   File \"/private/var/folders/fm/gwbmjrfx6gxg6x7xxcxbnrth0000gn/T/pip-build-env-4n11flhi/overlay/lib/python3.12/site-packages/setuptools/version.py\", line 1, in <module>\n",
      "  \u001b[31m   \u001b[0m     import pkg_resources\n",
      "  \u001b[31m   \u001b[0m   File \"/private/var/folders/fm/gwbmjrfx6gxg6x7xxcxbnrth0000gn/T/pip-build-env-4n11flhi/overlay/lib/python3.12/site-packages/pkg_resources/__init__.py\", line 2172, in <module>\n",
      "  \u001b[31m   \u001b[0m     register_finder(pkgutil.ImpImporter, find_on_path)\n",
      "  \u001b[31m   \u001b[0m                     ^^^^^^^^^^^^^^^^^^^\n",
      "  \u001b[31m   \u001b[0m AttributeError: module 'pkgutil' has no attribute 'ImpImporter'. Did you mean: 'zipimporter'?\n",
      "  \u001b[31m   \u001b[0m \u001b[31m[end of output]\u001b[0m\n",
      "  \n",
      "  \u001b[1;35mnote\u001b[0m: This error originates from a subprocess, and is likely not a problem with pip.\n",
      "\u001b[?25h\u001b[1;31merror\u001b[0m: \u001b[1msubprocess-exited-with-error\u001b[0m\n",
      "\n",
      "\u001b[31m×\u001b[0m \u001b[32mGetting requirements to build wheel\u001b[0m did not run successfully.\n",
      "\u001b[31m│\u001b[0m exit code: \u001b[1;36m1\u001b[0m\n",
      "\u001b[31m╰─>\u001b[0m See above for output.\n",
      "\n",
      "\u001b[1;35mnote\u001b[0m: This error originates from a subprocess, and is likely not a problem with pip.\n"
     ]
    }
   ],
   "source": [
    "!pip install meds_reader==0.1.9\n",
    "!pip install setuptools\n",
    "!pip install cehrbert==1.3.1"
   ]
  },
  {
   "cell_type": "code",
   "execution_count": 3,
   "id": "ff2f8638",
   "metadata": {},
   "outputs": [],
   "source": [
    "#@title Download E-ICU demo\n",
    "import os\n",
    "from pathlib import Path\n",
    "notebook_dir = os.getcwd()\n",
    "\n",
    "ROOT_DIR=f\"{notebook_dir}/work_dir/mimiciv_demo/\"\n",
    "# ROOT_DIR=f\"{notebook_dir}/work_dir/eicu_demo/\"\n",
    "Path(ROOT_DIR).mkdir(parents=True, exist_ok=True)"
   ]
  },
  {
   "cell_type": "code",
   "execution_count": null,
   "id": "541b292a",
   "metadata": {},
   "outputs": [],
   "source": [
    "MEDS_DIR = ROOT_DIR + \"/meds/\"\n",
    "MEDS_READER_DIR = ROOT_DIR + \"/meds_reader/\"\n",
    "TASK_DIR = MEDS_DIR + \"/task_labels\"\n",
    "TASK_NAME=\"mortality/in_icu/first_24h\"\n",
    "# TASK_NAME=\"los_in_hospital_first_48h\"\n",
    "OUTPUT_PRETRAIN_MODEL_DIR= ROOT_DIR + \"/output/cehrbert/\"\n",
    "# TODO this variable has an identical name?\n",
    "OUTPUT_PRETRAIN_MODEL_DIR= ROOT_DIR + \"/output/cehrbert_finetuned/\""
   ]
  },
  {
   "cell_type": "markdown",
   "id": "e2e4ac93",
   "metadata": {},
   "source": [
    "Run meds_reader on the MEDS data"
   ]
  },
  {
   "cell_type": "code",
   "execution_count": null,
   "id": "6010330a",
   "metadata": {},
   "outputs": [],
   "source": [
    "!meds_reader_convert $MEDS_DIR $MEDS_READER_DIR"
   ]
  },
  {
   "cell_type": "code",
   "execution_count": null,
   "id": "26f1edfb",
   "metadata": {},
   "outputs": [],
   "source": [
    "!mkdir -p ./content/output/cehrbert/\n",
    "!mkdir -p ./content/output/cehrbert_dataset_prepared/\n",
    "!mkdir -p ./content/output/cehrbert_finetuned/"
   ]
  },
  {
   "cell_type": "code",
   "execution_count": null,
   "id": "17c4af8d",
   "metadata": {},
   "outputs": [],
   "source": [
    "!mkdir ./content/github_repo;cd ./content/github_repo;git clone https://github.com/cumc-dbmi/cehrbert.git;cd cehrbert;git checkout fix/meds_evaluation;pip install .;"
   ]
  },
  {
   "cell_type": "markdown",
   "id": "a58e10d2",
   "metadata": {},
   "source": [
    "Create the cehrbert pretraining configuration yaml file"
   ]
  },
  {
   "cell_type": "code",
   "execution_count": null,
   "id": "7f033a64",
   "metadata": {},
   "outputs": [],
   "source": [
    "cehrbert_pretrain_config = \"\"\"\n",
    "#Model arguments\n",
    "model_name_or_path: \"./content/output/cehrbert/\"\n",
    "tokenizer_name_or_path: \"./content/output/cehrbert/\"\n",
    "num_hidden_layers: 6\n",
    "max_position_embeddings: 1024\n",
    "hidden_size: 768\n",
    "vocab_size: 100000\n",
    "min_frequency: 50\n",
    "include_value_prediction: false # additional CEHR-BERT learning objective\n",
    "\n",
    "#Data arguments\n",
    "data_folder: \"./content/meds_reader/\"\n",
    "dataset_prepared_path: \"./content/output/cehrbert_dataset_prepared/\"\n",
    "\n",
    "# Below is a list of Med-to-CehrBert related arguments\n",
    "preprocessing_num_workers: 2\n",
    "preprocessing_batch_size: 128\n",
    "# if is_data_in_med is false, it assumes the data is in the cehrbert format\n",
    "is_data_in_meds: true\n",
    "att_function_type: \"cehr_bert\"\n",
    "inpatient_att_function_type: \"mix\"\n",
    "include_auxiliary_token: true\n",
    "include_demographic_prompt: false\n",
    "# if the data is in the meds format, the validation split will be omitted\n",
    "# as the meds already provide train/tuning/held_out splits\n",
    "validation_split_percentage: 0.05\n",
    "\n",
    "# Huggingface Arguments\n",
    "dataloader_num_workers: 2\n",
    "dataloader_prefetch_factor: 2\n",
    "\n",
    "overwrite_output_dir: false\n",
    "resume_from_checkpoint: # automatically infer the latest checkpoint from the output folder\n",
    "seed: 42\n",
    "\n",
    "output_dir: \"./content/output/cehrbert/\"\n",
    "evaluation_strategy: \"epoch\"\n",
    "save_strategy: \"epoch\"\n",
    "eval_accumulation_steps: 10\n",
    "\n",
    "learning_rate: 0.00005\n",
    "per_device_train_batch_size: 8\n",
    "per_device_eval_batch_size: 8\n",
    "gradient_accumulation_steps: 2\n",
    "\n",
    "num_train_epochs: 50 # for large datasets, 5-10 epochs should suffice\n",
    "warmup_steps: 10\n",
    "weight_decay: 0.01\n",
    "logging_dir: \"./logs\"\n",
    "logging_steps: 10\n",
    "\n",
    "save_total_limit:\n",
    "load_best_model_at_end: true\n",
    "metric_for_best_model: \"eval_loss\"\n",
    "greater_is_better: false\n",
    "\n",
    "report_to: \"none\"\n",
    "\"\"\"\n",
    "PRETRAIN_CONFIG_FP = ROOT_DIR + \"/output/cehrbert/cehrbert_pretrain_config.yaml\"\n",
    "with open(PRETRAIN_CONFIG_FP, 'w') as f:\n",
    "    f.write(cehrbert_pretrain_config)"
   ]
  },
  {
   "cell_type": "markdown",
   "id": "20844f8a",
   "metadata": {},
   "source": [
    "## Pretrain cehrbert using MLM\n",
    "!python3.11 -m cehrbert.runners.hf_cehrbert_pretrain_runner ./content/output/cehrbert/cehrbert_pretrain_config.yaml"
   ]
  },
  {
   "cell_type": "markdown",
   "id": "6ce8fa79",
   "metadata": {},
   "source": [
    "## Create the cehrbert finetuning configuration yaml file\n",
    "cehrbert_finetune_config = f\"\"\"\n",
    "Model arguments\n",
    "model_name_or_path: \"./content/output/cehrbert/\"\n",
    "tokenizer_name_or_path: \"./content/output/cehrbert/\"\n",
    "num_hidden_layers: 6\n",
    "max_position_embeddings: 1024\n",
    "hidden_size: 768\n",
    "vocab_size: 100000\n",
    "min_frequency: 50\n",
    "include_value_prediction: false # additional CEHR-BERT learning objective\n",
    "\n",
    "Data arguments\n",
    "cohort_folder: \"./content/tasks/{TASK_NAME}/\"\n",
    "data_folder: \"./content/meds_reader/\"\n",
    "dataset_prepared_path: \"./content/output/cehrbert_dataset_prepared/\"\n",
    "\n",
    "LORA\n",
    "use_lora: True\n",
    "lora_rank: 64\n",
    "lora_alpha: 16\n",
    "target_modules: [ \"query\", \"value\" ]\n",
    "lora_dropout: 0.1\n",
    "\n",
    "Below is a list of Med-to-CehrBert related arguments\n",
    "preprocessing_num_workers: 2\n",
    "preprocessing_batch_size: 128\n",
    "if is_data_in_med is false, it assumes the data is in the cehrbert format\n",
    "is_data_in_meds: true\n",
    "att_function_type: \"cehr_bert\"\n",
    "inpatient_att_function_type: \"mix\"\n",
    "include_auxiliary_token: true\n",
    "include_demographic_prompt: false\n",
    "if the data is in the meds format, the validation split will be omitted\n",
    "as the meds already provide train/tuning/held_out splits\n",
    "validation_split_percentage: 0.05\n",
    "\n",
    "Huggingface Arguments\n",
    "dataloader_num_workers: 2\n",
    "dataloader_prefetch_factor: 2\n",
    "\n",
    "overwrite_output_dir: false\n",
    "resume_from_checkpoint: # automatically infer the latest checkpoint from the output folder\n",
    "seed: 42\n",
    "\n",
    "output_dir: \"./content/output/cehrbert_finetuned\"\n",
    "evaluation_strategy: \"epoch\"\n",
    "save_strategy: \"epoch\"\n",
    "eval_accumulation_steps: 10\n",
    "\n",
    "do_train: True\n",
    "do_predict: True\n",
    "\n",
    "learning_rate: 0.00005\n",
    "per_device_train_batch_size: 8\n",
    "per_device_eval_batch_size: 8\n",
    "gradient_accumulation_steps: 2\n",
    "\n",
    "num_train_epochs: 10\n",
    "warmup_steps: 10\n",
    "weight_decay: 0.01\n",
    "logging_dir: \"./logs\"\n",
    "logging_steps: 10\n",
    "\n",
    "save_total_limit:\n",
    "load_best_model_at_end: true\n",
    "metric_for_best_model: \"eval_loss\"\n",
    "greater_is_better: false\n",
    "\n",
    "report_to: \"none\"\n",
    "\"\"\"\n",
    "FINETUNE_CONFIG_FP = f\"./content/output/cehrbert/cehrbert_finetune_config.yaml\"\n",
    "with open(FINETUNE_CONFIG_FP, 'w') as f:\n",
    "    f.write(cehrbert_finetune_config)"
   ]
  },
  {
   "cell_type": "code",
   "execution_count": null,
   "id": "bf0b1d0f",
   "metadata": {},
   "outputs": [
    {
     "name": "stdout",
     "output_type": "stream",
     "text": [
      "python3.11 -m cehrbert.runners.hf_cehrbert_finetune_runner /Users/sim/Documents/projects/MEDS-DEV/demo/work_dir/mimiciv_demo//output/cehrbert/cehrbert_finetune_config.yaml\n"
     ]
    }
   ],
   "source": [
    "# ## Finetune cehrbert for the downstream task\n",
    "!python3.11 -m cehrbert.runners.hf_cehrbert_finetune_runner {ROOT_DIR}/output/cehrbert/cehrbert_finetune_config.yaml"
   ]
  },
  {
   "cell_type": "code",
   "execution_count": null,
   "id": "187aeb7b",
   "metadata": {},
   "outputs": [],
   "source": [
    "import pandas as pd\n",
    "\n",
    "pd.read_parquet(\"./content/output/cehrbert_finetuned/test_predictions\")"
   ]
  },
  {
   "cell_type": "code",
   "execution_count": null,
   "id": "9977fc54",
   "metadata": {},
   "outputs": [],
   "source": [
    "!cat {ROOT_DIR}/output/cehrbert_finetuned/test_results.json"
   ]
  }
 ],
 "metadata": {
  "jupytext": {
   "main_language": "python"
  },
  "kernelspec": {
   "display_name": "dev",
   "language": "python",
   "name": "python3"
  },
  "language_info": {
   "codemirror_mode": {
    "name": "ipython",
    "version": 3
   },
   "file_extension": ".py",
   "mimetype": "text/x-python",
   "name": "python",
   "nbconvert_exporter": "python",
   "pygments_lexer": "ipython3",
   "version": "3.12.8"
  }
 },
 "nbformat": 4,
 "nbformat_minor": 5
}
