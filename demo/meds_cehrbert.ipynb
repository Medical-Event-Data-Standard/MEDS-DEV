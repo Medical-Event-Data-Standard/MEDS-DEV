{
 "cells": [
  {
   "cell_type": "markdown",
   "id": "e9226e6d",
   "metadata": {
    "lines_to_next_cell": 0
   },
   "source": [
    "## Use a python 3.11 kernel cehrbert"
   ]
  },
  {
   "cell_type": "code",
   "execution_count": null,
   "id": "e4c2dca6",
   "metadata": {},
   "outputs": [],
   "source": [
    "!pip install meds_reader==0.1.9\n",
    "!pip install setuptools\n",
    "!pip install cehrbert==1.3.1"
   ]
  },
  {
   "cell_type": "code",
   "execution_count": null,
   "id": "541b292a",
   "metadata": {},
   "outputs": [],
   "source": [
    "MIMICIV_MEDS_DIR = \"./content/meds/\"\n",
    "MIMICIV_MEDS_READER_DIR = \"./content/meds_reader/\"\n",
    "TASK_DIR=\"./content/tasks/\"\n",
    "TASK_NAME=\"in_hospital_3d_los_after_48h\"\n",
    "OUTPUT_PRETRAIN_MODEL_DIR=\"./content/output/cehrbert/\"\n",
    "# TODO this variable has an identical name?\n",
    "OUTPUT_PRETRAIN_MODEL_DIR=\"./content/output/cehrbert_finetuned/\""
   ]
  },
  {
   "cell_type": "markdown",
   "id": "e2e4ac93",
   "metadata": {},
   "source": [
    "Run meds_reader on the MEDS data"
   ]
  },
  {
   "cell_type": "code",
   "execution_count": null,
   "id": "6010330a",
   "metadata": {},
   "outputs": [],
   "source": [
    "!meds_reader_convert $MIMICIV_MEDS_DIR $MIMICIV_MEDS_READER_DIR"
   ]
  },
  {
   "cell_type": "code",
   "execution_count": null,
   "id": "26f1edfb",
   "metadata": {},
   "outputs": [],
   "source": [
    "!mkdir -p ./content/output/cehrbert/\n",
    "!mkdir -p ./content/output/cehrbert_dataset_prepared/\n",
    "!mkdir -p ./content/output/cehrbert_finetuned/"
   ]
  },
  {
   "cell_type": "code",
   "execution_count": null,
   "id": "17c4af8d",
   "metadata": {},
   "outputs": [],
   "source": [
    "!mkdir ./content/github_repo;cd ./content/github_repo;git clone https://github.com/cumc-dbmi/cehrbert.git;cd cehrbert;git checkout fix/meds_evaluation;pip install .;"
   ]
  },
  {
   "cell_type": "markdown",
   "id": "a58e10d2",
   "metadata": {},
   "source": [
    "Create the cehrbert pretraining configuration yaml file"
   ]
  },
  {
   "cell_type": "code",
   "execution_count": null,
   "id": "7f033a64",
   "metadata": {},
   "outputs": [],
   "source": [
    "cehrbert_pretrain_config = \"\"\"\n",
    "#Model arguments\n",
    "model_name_or_path: \"./content/output/cehrbert/\"\n",
    "tokenizer_name_or_path: \"./content/output/cehrbert/\"\n",
    "num_hidden_layers: 6\n",
    "max_position_embeddings: 1024\n",
    "hidden_size: 768\n",
    "vocab_size: 100000\n",
    "min_frequency: 50\n",
    "include_value_prediction: false # additional CEHR-BERT learning objective\n",
    "\n",
    "#Data arguments\n",
    "data_folder: \"./content/meds_reader/\"\n",
    "dataset_prepared_path: \"./content/output/cehrbert_dataset_prepared/\"\n",
    "\n",
    "# Below is a list of Med-to-CehrBert related arguments\n",
    "preprocessing_num_workers: 2\n",
    "preprocessing_batch_size: 128\n",
    "# if is_data_in_med is false, it assumes the data is in the cehrbert format\n",
    "is_data_in_meds: true\n",
    "att_function_type: \"cehr_bert\"\n",
    "inpatient_att_function_type: \"mix\"\n",
    "include_auxiliary_token: true\n",
    "include_demographic_prompt: false\n",
    "# if the data is in the meds format, the validation split will be omitted\n",
    "# as the meds already provide train/tuning/held_out splits\n",
    "validation_split_percentage: 0.05\n",
    "\n",
    "# Huggingface Arguments\n",
    "dataloader_num_workers: 2\n",
    "dataloader_prefetch_factor: 2\n",
    "\n",
    "overwrite_output_dir: false\n",
    "resume_from_checkpoint: # automatically infer the latest checkpoint from the output folder\n",
    "seed: 42\n",
    "\n",
    "output_dir: \"./content/output/cehrbert/\"\n",
    "evaluation_strategy: \"epoch\"\n",
    "save_strategy: \"epoch\"\n",
    "eval_accumulation_steps: 10\n",
    "\n",
    "learning_rate: 0.00005\n",
    "per_device_train_batch_size: 8\n",
    "per_device_eval_batch_size: 8\n",
    "gradient_accumulation_steps: 2\n",
    "\n",
    "num_train_epochs: 50 # for large datasets, 5-10 epochs should suffice\n",
    "warmup_steps: 10\n",
    "weight_decay: 0.01\n",
    "logging_dir: \"./logs\"\n",
    "logging_steps: 10\n",
    "\n",
    "save_total_limit:\n",
    "load_best_model_at_end: true\n",
    "metric_for_best_model: \"eval_loss\"\n",
    "greater_is_better: false\n",
    "\n",
    "report_to: \"none\"\n",
    "\"\"\"\n",
    "PRETRAIN_CONFIG_FP = f\"./content/output/cehrbert/cehrbert_pretrain_config.yaml\"\n",
    "with open(PRETRAIN_CONFIG_FP, 'w') as f:\n",
    "    f.write(cehrbert_pretrain_config)"
   ]
  },
  {
   "cell_type": "markdown",
   "id": "20844f8a",
   "metadata": {},
   "source": [
    "## Pretrain cehrbert using MLM\n",
    "!python3.11 -m cehrbert.runners.hf_cehrbert_pretrain_runner ./content/output/cehrbert/cehrbert_pretrain_config.yaml"
   ]
  },
  {
   "cell_type": "markdown",
   "id": "6ce8fa79",
   "metadata": {},
   "source": [
    "## Create the cehrbert finetuning configuration yaml file\n",
    "cehrbert_finetune_config = f\"\"\"\n",
    "Model arguments\n",
    "model_name_or_path: \"./content/output/cehrbert/\"\n",
    "tokenizer_name_or_path: \"./content/output/cehrbert/\"\n",
    "num_hidden_layers: 6\n",
    "max_position_embeddings: 1024\n",
    "hidden_size: 768\n",
    "vocab_size: 100000\n",
    "min_frequency: 50\n",
    "include_value_prediction: false # additional CEHR-BERT learning objective\n",
    "\n",
    "Data arguments\n",
    "cohort_folder: \"./content/tasks/{TASK_NAME}/\"\n",
    "data_folder: \"./content/meds_reader/\"\n",
    "dataset_prepared_path: \"./content/output/cehrbert_dataset_prepared/\"\n",
    "\n",
    "LORA\n",
    "use_lora: True\n",
    "lora_rank: 64\n",
    "lora_alpha: 16\n",
    "target_modules: [ \"query\", \"value\" ]\n",
    "lora_dropout: 0.1\n",
    "\n",
    "Below is a list of Med-to-CehrBert related arguments\n",
    "preprocessing_num_workers: 2\n",
    "preprocessing_batch_size: 128\n",
    "if is_data_in_med is false, it assumes the data is in the cehrbert format\n",
    "is_data_in_meds: true\n",
    "att_function_type: \"cehr_bert\"\n",
    "inpatient_att_function_type: \"mix\"\n",
    "include_auxiliary_token: true\n",
    "include_demographic_prompt: false\n",
    "if the data is in the meds format, the validation split will be omitted\n",
    "as the meds already provide train/tuning/held_out splits\n",
    "validation_split_percentage: 0.05\n",
    "\n",
    "Huggingface Arguments\n",
    "dataloader_num_workers: 2\n",
    "dataloader_prefetch_factor: 2\n",
    "\n",
    "overwrite_output_dir: false\n",
    "resume_from_checkpoint: # automatically infer the latest checkpoint from the output folder\n",
    "seed: 42\n",
    "\n",
    "output_dir: \"./content/output/cehrbert_finetuned\"\n",
    "evaluation_strategy: \"epoch\"\n",
    "save_strategy: \"epoch\"\n",
    "eval_accumulation_steps: 10\n",
    "\n",
    "do_train: True\n",
    "do_predict: True\n",
    "\n",
    "learning_rate: 0.00005\n",
    "per_device_train_batch_size: 8\n",
    "per_device_eval_batch_size: 8\n",
    "gradient_accumulation_steps: 2\n",
    "\n",
    "num_train_epochs: 10\n",
    "warmup_steps: 10\n",
    "weight_decay: 0.01\n",
    "logging_dir: \"./logs\"\n",
    "logging_steps: 10\n",
    "\n",
    "save_total_limit:\n",
    "load_best_model_at_end: true\n",
    "metric_for_best_model: \"eval_loss\"\n",
    "greater_is_better: false\n",
    "\n",
    "report_to: \"none\"\n",
    "\"\"\"\n",
    "FINETUNE_CONFIG_FP = f\"./content/output/cehrbert/cehrbert_finetune_config.yaml\"\n",
    "with open(FINETUNE_CONFIG_FP, 'w') as f:\n",
    "    f.write(cehrbert_finetune_config)"
   ]
  },
  {
   "cell_type": "code",
   "execution_count": null,
   "id": "bf0b1d0f",
   "metadata": {},
   "outputs": [],
   "source": [
    "# ## Finetune cehrbert for the downstream task\n",
    "!python3.11 -m cehrbert.runners.hf_cehrbert_finetune_runner ./content/output/cehrbert/cehrbert_finetune_config.yaml"
   ]
  },
  {
   "cell_type": "code",
   "execution_count": null,
   "id": "187aeb7b",
   "metadata": {},
   "outputs": [],
   "source": [
    "import pandas as pd\n",
    "\n",
    "pd.read_parquet(\"./content/output/cehrbert_finetuned/test_predictions\")"
   ]
  },
  {
   "cell_type": "code",
   "execution_count": null,
   "id": "9977fc54",
   "metadata": {},
   "outputs": [],
   "source": [
    "!cat ./content/output/cehrbert_finetuned/test_results.json"
   ]
  }
 ],
 "metadata": {
  "jupytext": {
   "main_language": "python"
  },
  "kernelspec": {
   "display_name": "Python 3",
   "name": "python3"
  }
 },
 "nbformat": 4,
 "nbformat_minor": 5
}
